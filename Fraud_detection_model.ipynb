{
 "cells": [
  {
   "cell_type": "markdown",
   "id": "7ac673fd",
   "metadata": {},
   "source": [
    "# Fraud detection model"
   ]
  },
  {
   "cell_type": "markdown",
   "id": "e4ee0f36",
   "metadata": {},
   "source": [
    "Importing the important initial libraries for reading the excel file (csv) "
   ]
  },
  {
   "cell_type": "code",
   "execution_count": 1,
   "id": "a6764008",
   "metadata": {},
   "outputs": [],
   "source": [
    "import pandas as pd \n",
    "import numpy as np\n",
    "import seaborn as sns\n",
    "import matplotlib.pyplot as plt\n",
    "import warnings\n",
    "warnings.filterwarnings(\"ignore\", category=DeprecationWarning)"
   ]
  },
  {
   "cell_type": "code",
   "execution_count": 40,
   "id": "1b087f47",
   "metadata": {},
   "outputs": [],
   "source": [
    "data = pd.read_csv(\"C:\\\\Users\\\\Dell\\\\Desktop\\\\projects\\\\Untitled Folder\\\\Fraud.csv\", encoding= ('unicode_escape'))"
   ]
  },
  {
   "cell_type": "markdown",
   "id": "3d511aee",
   "metadata": {},
   "source": [
    "After loading the dataset, Checking for missing values for initial EDA and to start data cleaning"
   ]
  },
  {
   "cell_type": "code",
   "execution_count": 3,
   "id": "a1f8a351",
   "metadata": {},
   "outputs": [
    {
     "name": "stdout",
     "output_type": "stream",
     "text": [
      "Data does not have any NULL value.\n"
     ]
    },
    {
     "data": {
      "text/plain": [
       "step              False\n",
       "type              False\n",
       "amount            False\n",
       "nameOrig          False\n",
       "oldbalanceOrg     False\n",
       "newbalanceOrig    False\n",
       "nameDest          False\n",
       "oldbalanceDest    False\n",
       "newbalanceDest    False\n",
       "isFraud           False\n",
       "isFlaggedFraud    False\n",
       "dtype: bool"
      ]
     },
     "execution_count": 3,
     "metadata": {},
     "output_type": "execute_result"
    }
   ],
   "source": [
    "print('Data does not have any NULL value.')\n",
    "data.isnull().any()"
   ]
  },
  {
   "cell_type": "markdown",
   "id": "4d5c304b",
   "metadata": {},
   "source": [
    "No missing values so we can proceed, Let's see what the dataset looks like!"
   ]
  },
  {
   "cell_type": "code",
   "execution_count": 4,
   "id": "03f0a075",
   "metadata": {},
   "outputs": [
    {
     "data": {
      "text/html": [
       "<div>\n",
       "<style scoped>\n",
       "    .dataframe tbody tr th:only-of-type {\n",
       "        vertical-align: middle;\n",
       "    }\n",
       "\n",
       "    .dataframe tbody tr th {\n",
       "        vertical-align: top;\n",
       "    }\n",
       "\n",
       "    .dataframe thead th {\n",
       "        text-align: right;\n",
       "    }\n",
       "</style>\n",
       "<table border=\"1\" class=\"dataframe\">\n",
       "  <thead>\n",
       "    <tr style=\"text-align: right;\">\n",
       "      <th></th>\n",
       "      <th>step</th>\n",
       "      <th>type</th>\n",
       "      <th>amount</th>\n",
       "      <th>nameOrig</th>\n",
       "      <th>oldbalanceOrg</th>\n",
       "      <th>newbalanceOrig</th>\n",
       "      <th>nameDest</th>\n",
       "      <th>oldbalanceDest</th>\n",
       "      <th>newbalanceDest</th>\n",
       "      <th>isFraud</th>\n",
       "      <th>isFlaggedFraud</th>\n",
       "    </tr>\n",
       "  </thead>\n",
       "  <tbody>\n",
       "    <tr>\n",
       "      <th>0</th>\n",
       "      <td>1</td>\n",
       "      <td>PAYMENT</td>\n",
       "      <td>9839.64</td>\n",
       "      <td>C1231006815</td>\n",
       "      <td>170136.00</td>\n",
       "      <td>160296.36</td>\n",
       "      <td>M1979787155</td>\n",
       "      <td>0.0</td>\n",
       "      <td>0.00</td>\n",
       "      <td>0</td>\n",
       "      <td>0</td>\n",
       "    </tr>\n",
       "    <tr>\n",
       "      <th>1</th>\n",
       "      <td>1</td>\n",
       "      <td>PAYMENT</td>\n",
       "      <td>1864.28</td>\n",
       "      <td>C1666544295</td>\n",
       "      <td>21249.00</td>\n",
       "      <td>19384.72</td>\n",
       "      <td>M2044282225</td>\n",
       "      <td>0.0</td>\n",
       "      <td>0.00</td>\n",
       "      <td>0</td>\n",
       "      <td>0</td>\n",
       "    </tr>\n",
       "    <tr>\n",
       "      <th>2</th>\n",
       "      <td>1</td>\n",
       "      <td>TRANSFER</td>\n",
       "      <td>181.00</td>\n",
       "      <td>C1305486145</td>\n",
       "      <td>181.00</td>\n",
       "      <td>0.00</td>\n",
       "      <td>C553264065</td>\n",
       "      <td>0.0</td>\n",
       "      <td>0.00</td>\n",
       "      <td>1</td>\n",
       "      <td>0</td>\n",
       "    </tr>\n",
       "    <tr>\n",
       "      <th>3</th>\n",
       "      <td>1</td>\n",
       "      <td>CASH_OUT</td>\n",
       "      <td>181.00</td>\n",
       "      <td>C840083671</td>\n",
       "      <td>181.00</td>\n",
       "      <td>0.00</td>\n",
       "      <td>C38997010</td>\n",
       "      <td>21182.0</td>\n",
       "      <td>0.00</td>\n",
       "      <td>1</td>\n",
       "      <td>0</td>\n",
       "    </tr>\n",
       "    <tr>\n",
       "      <th>4</th>\n",
       "      <td>1</td>\n",
       "      <td>PAYMENT</td>\n",
       "      <td>11668.14</td>\n",
       "      <td>C2048537720</td>\n",
       "      <td>41554.00</td>\n",
       "      <td>29885.86</td>\n",
       "      <td>M1230701703</td>\n",
       "      <td>0.0</td>\n",
       "      <td>0.00</td>\n",
       "      <td>0</td>\n",
       "      <td>0</td>\n",
       "    </tr>\n",
       "    <tr>\n",
       "      <th>5</th>\n",
       "      <td>1</td>\n",
       "      <td>PAYMENT</td>\n",
       "      <td>7817.71</td>\n",
       "      <td>C90045638</td>\n",
       "      <td>53860.00</td>\n",
       "      <td>46042.29</td>\n",
       "      <td>M573487274</td>\n",
       "      <td>0.0</td>\n",
       "      <td>0.00</td>\n",
       "      <td>0</td>\n",
       "      <td>0</td>\n",
       "    </tr>\n",
       "    <tr>\n",
       "      <th>6</th>\n",
       "      <td>1</td>\n",
       "      <td>PAYMENT</td>\n",
       "      <td>7107.77</td>\n",
       "      <td>C154988899</td>\n",
       "      <td>183195.00</td>\n",
       "      <td>176087.23</td>\n",
       "      <td>M408069119</td>\n",
       "      <td>0.0</td>\n",
       "      <td>0.00</td>\n",
       "      <td>0</td>\n",
       "      <td>0</td>\n",
       "    </tr>\n",
       "    <tr>\n",
       "      <th>7</th>\n",
       "      <td>1</td>\n",
       "      <td>PAYMENT</td>\n",
       "      <td>7861.64</td>\n",
       "      <td>C1912850431</td>\n",
       "      <td>176087.23</td>\n",
       "      <td>168225.59</td>\n",
       "      <td>M633326333</td>\n",
       "      <td>0.0</td>\n",
       "      <td>0.00</td>\n",
       "      <td>0</td>\n",
       "      <td>0</td>\n",
       "    </tr>\n",
       "    <tr>\n",
       "      <th>8</th>\n",
       "      <td>1</td>\n",
       "      <td>PAYMENT</td>\n",
       "      <td>4024.36</td>\n",
       "      <td>C1265012928</td>\n",
       "      <td>2671.00</td>\n",
       "      <td>0.00</td>\n",
       "      <td>M1176932104</td>\n",
       "      <td>0.0</td>\n",
       "      <td>0.00</td>\n",
       "      <td>0</td>\n",
       "      <td>0</td>\n",
       "    </tr>\n",
       "    <tr>\n",
       "      <th>9</th>\n",
       "      <td>1</td>\n",
       "      <td>DEBIT</td>\n",
       "      <td>5337.77</td>\n",
       "      <td>C712410124</td>\n",
       "      <td>41720.00</td>\n",
       "      <td>36382.23</td>\n",
       "      <td>C195600860</td>\n",
       "      <td>41898.0</td>\n",
       "      <td>40348.79</td>\n",
       "      <td>0</td>\n",
       "      <td>0</td>\n",
       "    </tr>\n",
       "  </tbody>\n",
       "</table>\n",
       "</div>"
      ],
      "text/plain": [
       "   step      type    amount     nameOrig  oldbalanceOrg  newbalanceOrig  \\\n",
       "0     1   PAYMENT   9839.64  C1231006815      170136.00       160296.36   \n",
       "1     1   PAYMENT   1864.28  C1666544295       21249.00        19384.72   \n",
       "2     1  TRANSFER    181.00  C1305486145         181.00            0.00   \n",
       "3     1  CASH_OUT    181.00   C840083671         181.00            0.00   \n",
       "4     1   PAYMENT  11668.14  C2048537720       41554.00        29885.86   \n",
       "5     1   PAYMENT   7817.71    C90045638       53860.00        46042.29   \n",
       "6     1   PAYMENT   7107.77   C154988899      183195.00       176087.23   \n",
       "7     1   PAYMENT   7861.64  C1912850431      176087.23       168225.59   \n",
       "8     1   PAYMENT   4024.36  C1265012928        2671.00            0.00   \n",
       "9     1     DEBIT   5337.77   C712410124       41720.00        36382.23   \n",
       "\n",
       "      nameDest  oldbalanceDest  newbalanceDest  isFraud  isFlaggedFraud  \n",
       "0  M1979787155             0.0            0.00        0               0  \n",
       "1  M2044282225             0.0            0.00        0               0  \n",
       "2   C553264065             0.0            0.00        1               0  \n",
       "3    C38997010         21182.0            0.00        1               0  \n",
       "4  M1230701703             0.0            0.00        0               0  \n",
       "5   M573487274             0.0            0.00        0               0  \n",
       "6   M408069119             0.0            0.00        0               0  \n",
       "7   M633326333             0.0            0.00        0               0  \n",
       "8  M1176932104             0.0            0.00        0               0  \n",
       "9   C195600860         41898.0        40348.79        0               0  "
      ]
     },
     "execution_count": 4,
     "metadata": {},
     "output_type": "execute_result"
    }
   ],
   "source": [
    "data.head(10) "
   ]
  },
  {
   "cell_type": "markdown",
   "id": "27ad54db",
   "metadata": {},
   "source": [
    "Data does not have missing or null values hence data does not require cleaning for that\n",
    "The data given here has the variables isFraud and isFlaggedFraud depicting that the actual Fraud status has been noted. We can use this data to train our model."
   ]
  },
  {
   "cell_type": "code",
   "execution_count": 5,
   "id": "687b6d35",
   "metadata": {},
   "outputs": [
    {
     "name": "stdout",
     "output_type": "stream",
     "text": [
      "<class 'pandas.core.frame.DataFrame'>\n",
      "RangeIndex: 6362620 entries, 0 to 6362619\n",
      "Data columns (total 11 columns):\n",
      " #   Column          Dtype  \n",
      "---  ------          -----  \n",
      " 0   step            int64  \n",
      " 1   type            object \n",
      " 2   amount          float64\n",
      " 3   nameOrig        object \n",
      " 4   oldbalanceOrg   float64\n",
      " 5   newbalanceOrig  float64\n",
      " 6   nameDest        object \n",
      " 7   oldbalanceDest  float64\n",
      " 8   newbalanceDest  float64\n",
      " 9   isFraud         int64  \n",
      " 10  isFlaggedFraud  int64  \n",
      "dtypes: float64(5), int64(3), object(3)\n",
      "memory usage: 534.0+ MB\n"
     ]
    }
   ],
   "source": [
    "data.info() # to help understand the data types for each "
   ]
  },
  {
   "cell_type": "code",
   "execution_count": 6,
   "id": "b690c94a",
   "metadata": {},
   "outputs": [
    {
     "data": {
      "text/html": [
       "<div>\n",
       "<style scoped>\n",
       "    .dataframe tbody tr th:only-of-type {\n",
       "        vertical-align: middle;\n",
       "    }\n",
       "\n",
       "    .dataframe tbody tr th {\n",
       "        vertical-align: top;\n",
       "    }\n",
       "\n",
       "    .dataframe thead th {\n",
       "        text-align: right;\n",
       "    }\n",
       "</style>\n",
       "<table border=\"1\" class=\"dataframe\">\n",
       "  <thead>\n",
       "    <tr style=\"text-align: right;\">\n",
       "      <th></th>\n",
       "      <th>step</th>\n",
       "      <th>amount</th>\n",
       "      <th>oldbalanceOrg</th>\n",
       "      <th>newbalanceOrig</th>\n",
       "      <th>oldbalanceDest</th>\n",
       "      <th>newbalanceDest</th>\n",
       "      <th>isFraud</th>\n",
       "      <th>isFlaggedFraud</th>\n",
       "    </tr>\n",
       "  </thead>\n",
       "  <tbody>\n",
       "    <tr>\n",
       "      <th>count</th>\n",
       "      <td>6.362620e+06</td>\n",
       "      <td>6.362620e+06</td>\n",
       "      <td>6.362620e+06</td>\n",
       "      <td>6.362620e+06</td>\n",
       "      <td>6.362620e+06</td>\n",
       "      <td>6.362620e+06</td>\n",
       "      <td>6.362620e+06</td>\n",
       "      <td>6.362620e+06</td>\n",
       "    </tr>\n",
       "    <tr>\n",
       "      <th>mean</th>\n",
       "      <td>2.433972e+02</td>\n",
       "      <td>1.798619e+05</td>\n",
       "      <td>8.338831e+05</td>\n",
       "      <td>8.551137e+05</td>\n",
       "      <td>1.100702e+06</td>\n",
       "      <td>1.224996e+06</td>\n",
       "      <td>1.290820e-03</td>\n",
       "      <td>2.514687e-06</td>\n",
       "    </tr>\n",
       "    <tr>\n",
       "      <th>std</th>\n",
       "      <td>1.423320e+02</td>\n",
       "      <td>6.038582e+05</td>\n",
       "      <td>2.888243e+06</td>\n",
       "      <td>2.924049e+06</td>\n",
       "      <td>3.399180e+06</td>\n",
       "      <td>3.674129e+06</td>\n",
       "      <td>3.590480e-02</td>\n",
       "      <td>1.585775e-03</td>\n",
       "    </tr>\n",
       "    <tr>\n",
       "      <th>min</th>\n",
       "      <td>1.000000e+00</td>\n",
       "      <td>0.000000e+00</td>\n",
       "      <td>0.000000e+00</td>\n",
       "      <td>0.000000e+00</td>\n",
       "      <td>0.000000e+00</td>\n",
       "      <td>0.000000e+00</td>\n",
       "      <td>0.000000e+00</td>\n",
       "      <td>0.000000e+00</td>\n",
       "    </tr>\n",
       "    <tr>\n",
       "      <th>25%</th>\n",
       "      <td>1.560000e+02</td>\n",
       "      <td>1.338957e+04</td>\n",
       "      <td>0.000000e+00</td>\n",
       "      <td>0.000000e+00</td>\n",
       "      <td>0.000000e+00</td>\n",
       "      <td>0.000000e+00</td>\n",
       "      <td>0.000000e+00</td>\n",
       "      <td>0.000000e+00</td>\n",
       "    </tr>\n",
       "    <tr>\n",
       "      <th>50%</th>\n",
       "      <td>2.390000e+02</td>\n",
       "      <td>7.487194e+04</td>\n",
       "      <td>1.420800e+04</td>\n",
       "      <td>0.000000e+00</td>\n",
       "      <td>1.327057e+05</td>\n",
       "      <td>2.146614e+05</td>\n",
       "      <td>0.000000e+00</td>\n",
       "      <td>0.000000e+00</td>\n",
       "    </tr>\n",
       "    <tr>\n",
       "      <th>75%</th>\n",
       "      <td>3.350000e+02</td>\n",
       "      <td>2.087215e+05</td>\n",
       "      <td>1.073152e+05</td>\n",
       "      <td>1.442584e+05</td>\n",
       "      <td>9.430367e+05</td>\n",
       "      <td>1.111909e+06</td>\n",
       "      <td>0.000000e+00</td>\n",
       "      <td>0.000000e+00</td>\n",
       "    </tr>\n",
       "    <tr>\n",
       "      <th>max</th>\n",
       "      <td>7.430000e+02</td>\n",
       "      <td>9.244552e+07</td>\n",
       "      <td>5.958504e+07</td>\n",
       "      <td>4.958504e+07</td>\n",
       "      <td>3.560159e+08</td>\n",
       "      <td>3.561793e+08</td>\n",
       "      <td>1.000000e+00</td>\n",
       "      <td>1.000000e+00</td>\n",
       "    </tr>\n",
       "  </tbody>\n",
       "</table>\n",
       "</div>"
      ],
      "text/plain": [
       "               step        amount  oldbalanceOrg  newbalanceOrig  \\\n",
       "count  6.362620e+06  6.362620e+06   6.362620e+06    6.362620e+06   \n",
       "mean   2.433972e+02  1.798619e+05   8.338831e+05    8.551137e+05   \n",
       "std    1.423320e+02  6.038582e+05   2.888243e+06    2.924049e+06   \n",
       "min    1.000000e+00  0.000000e+00   0.000000e+00    0.000000e+00   \n",
       "25%    1.560000e+02  1.338957e+04   0.000000e+00    0.000000e+00   \n",
       "50%    2.390000e+02  7.487194e+04   1.420800e+04    0.000000e+00   \n",
       "75%    3.350000e+02  2.087215e+05   1.073152e+05    1.442584e+05   \n",
       "max    7.430000e+02  9.244552e+07   5.958504e+07    4.958504e+07   \n",
       "\n",
       "       oldbalanceDest  newbalanceDest       isFraud  isFlaggedFraud  \n",
       "count    6.362620e+06    6.362620e+06  6.362620e+06    6.362620e+06  \n",
       "mean     1.100702e+06    1.224996e+06  1.290820e-03    2.514687e-06  \n",
       "std      3.399180e+06    3.674129e+06  3.590480e-02    1.585775e-03  \n",
       "min      0.000000e+00    0.000000e+00  0.000000e+00    0.000000e+00  \n",
       "25%      0.000000e+00    0.000000e+00  0.000000e+00    0.000000e+00  \n",
       "50%      1.327057e+05    2.146614e+05  0.000000e+00    0.000000e+00  \n",
       "75%      9.430367e+05    1.111909e+06  0.000000e+00    0.000000e+00  \n",
       "max      3.560159e+08    3.561793e+08  1.000000e+00    1.000000e+00  "
      ]
     },
     "execution_count": 6,
     "metadata": {},
     "output_type": "execute_result"
    }
   ],
   "source": [
    "data.describe() #to get a statistical overview of the dataset"
   ]
  },
  {
   "cell_type": "code",
   "execution_count": 7,
   "id": "763a1fbf",
   "metadata": {},
   "outputs": [],
   "source": [
    "fraud = data.loc[data.isFraud == 1]\n",
    "nonfraud = data.loc[data.isFraud == 0]"
   ]
  },
  {
   "cell_type": "code",
   "execution_count": 8,
   "id": "efadcd9f",
   "metadata": {},
   "outputs": [],
   "source": [
    "fraudcount = fraud.isFraud.count()\n",
    "nonfraudcount = nonfraud.isFraud.count()"
   ]
  },
  {
   "cell_type": "code",
   "execution_count": 9,
   "id": "a608adc1",
   "metadata": {},
   "outputs": [
    {
     "name": "stdout",
     "output_type": "stream",
     "text": [
      "The total number of fraud transaction is 8213.\n",
      "The total number of fraud transaction which is marked as fraud 16.\n",
      "Ratio of fraud transaction vs non-fraud transaction is 1:773.\n"
     ]
    }
   ],
   "source": [
    "print('The total number of fraud transaction is {}.'.format(data.isFraud.sum()))\n",
    "print('The total number of fraud transaction which is marked as fraud {}.'.format(data.isFlaggedFraud.sum()))\n",
    "print('Ratio of fraud transaction vs non-fraud transaction is 1:{}.'.format(int(nonfraudcount//fraudcount)))"
   ]
  },
  {
   "cell_type": "code",
   "execution_count": 43,
   "id": "22496563",
   "metadata": {},
   "outputs": [
    {
     "name": "stdout",
     "output_type": "stream",
     "text": [
      "Thus in every 773 transaction there is 1 fraud transaction happening.\n",
      "Amount lost due to these fraud transaction is $12056415427.\n"
     ]
    }
   ],
   "source": [
    "print('Thus in every 773 transaction there is 1 fraud transaction happening.')\n",
    "print('Amount lost due to these fraud transaction is ${}.'.format(int(fraud.amount.sum())))"
   ]
  },
  {
   "cell_type": "code",
   "execution_count": 10,
   "id": "b413f70f",
   "metadata": {},
   "outputs": [
    {
     "name": "stdout",
     "output_type": "stream",
     "text": [
      "Data does not have any NaN value.\n"
     ]
    },
    {
     "data": {
      "text/plain": [
       "step              False\n",
       "type              False\n",
       "amount            False\n",
       "nameOrig          False\n",
       "oldbalanceOrg     False\n",
       "newbalanceOrig    False\n",
       "nameDest          False\n",
       "oldbalanceDest    False\n",
       "newbalanceDest    False\n",
       "isFraud           False\n",
       "isFlaggedFraud    False\n",
       "dtype: bool"
      ]
     },
     "execution_count": 10,
     "metadata": {},
     "output_type": "execute_result"
    }
   ],
   "source": [
    "print('Data does not have any NaN value.')\n",
    "data.isna().any()#no data cleaning required but outliers and multicolinearity observed through other ways"
   ]
  },
  {
   "cell_type": "code",
   "execution_count": 11,
   "id": "f80e5bad",
   "metadata": {},
   "outputs": [
    {
     "data": {
      "text/plain": [
       "Text(0, 0.5, 'Amount')"
      ]
     },
     "execution_count": 11,
     "metadata": {},
     "output_type": "execute_result"
    },
    {
     "data": {
      "image/png": "[encoded data removed]",
      "text/plain": [
       "<Figure size 640x480 with 1 Axes>"
      ]
     },
     "metadata": {},
     "output_type": "display_data"
    }
   ],
   "source": [
    "var = data.groupby('type').amount.sum()\n",
    "fig = plt.figure()\n",
    "ax1 = fig.add_subplot(1,1,1)\n",
    "var.plot(kind='bar')\n",
    "ax1.set_title(\"Total amount per transaction type\")\n",
    "ax1.set_xlabel('Type of Transaction')\n",
    "ax1.set_ylabel('Amount')"
   ]
  },
  {
   "cell_type": "markdown",
   "id": "0c6ef24d",
   "metadata": {},
   "source": [
    "Tranfer and cash_out seem to be the most common ways of transaction and they happen to be the most common ways to commit fraud as well"
   ]
  },
  {
   "cell_type": "code",
   "execution_count": 12,
   "id": "d31cd9bf",
   "metadata": {},
   "outputs": [
    {
     "data": {
      "image/png": "[encoded data removed]",
      "text/plain": [
       "<Figure size 640x480 with 1 Axes>"
      ]
     },
     "metadata": {},
     "output_type": "display_data"
    }
   ],
   "source": [
    "fig = plt.figure()\n",
    "ax = fig.add_subplot(1,1,1)\n",
    "ax.scatter(nonfraud['oldbalanceOrg'],nonfraud['amount'],c='r')\n",
    "ax.scatter(fraud['oldbalanceOrg'],fraud['amount'],c='y')\n",
    "plt.show()"
   ]
  },
  {
   "cell_type": "code",
   "execution_count": 13,
   "id": "1969f71b",
   "metadata": {},
   "outputs": [
    {
     "data": {
      "image/png": "[encoded data removed]",
      "text/plain": [
       "<Figure size 640x480 with 1 Axes>"
      ]
     },
     "metadata": {},
     "output_type": "display_data"
    }
   ],
   "source": [
    "fig = plt.figure()\n",
    "axes = fig.add_subplot(1,1,1)\n",
    "axes.set_title(\"Fraud transaction which are Flagged Correctly\")\n",
    "axes.scatter(nonfraud['amount'],nonfraud['isFlaggedFraud'],c='g')\n",
    "axes.scatter(fraud['amount'],fraud['isFlaggedFraud'],c='b')\n",
    "plt.legend(loc='upper right',labels=['Not Flagged','Flagged'])\n",
    "plt.show()"
   ]
  },
  {
   "cell_type": "markdown",
   "id": "fb205cd2",
   "metadata": {},
   "source": [
    "The above plot depicts the need for a system which is fast and reliable to mark the fraudulent transaction. The current system is not able to identify and label the fraudulent transactions. We need to check the connection between the features themselves as well."
   ]
  },
  {
   "cell_type": "code",
   "execution_count": 14,
   "id": "0b80bda8",
   "metadata": {},
   "outputs": [
    {
     "name": "stderr",
     "output_type": "stream",
     "text": [
      "C:\\Users\\Dell\\AppData\\Local\\Temp\\ipykernel_23820\\3695544526.py:12: FutureWarning: The default value of numeric_only in DataFrame.corr is deprecated. In a future version, it will default to False. Select only valid columns or specify the value of numeric_only to silence this warning.\n",
      "  correlation_matrix = correlated_column.corr()\n"
     ]
    },
    {
     "name": "stdout",
     "output_type": "stream",
     "text": [
      "                    step    amount  oldbalanceOrg  newbalanceOrig  \\\n",
      "step            1.000000  0.022373      -0.010058       -0.010299   \n",
      "amount          0.022373  1.000000      -0.002762       -0.007861   \n",
      "oldbalanceOrg  -0.010058 -0.002762       1.000000        0.998803   \n",
      "newbalanceOrig -0.010299 -0.007861       0.998803        1.000000   \n",
      "oldbalanceDest  0.027665  0.294137       0.066243        0.067812   \n",
      "newbalanceDest  0.025888  0.459304       0.042029        0.041837   \n",
      "isFraud         0.031578  0.076688       0.010154       -0.008148   \n",
      "\n",
      "                oldbalanceDest  newbalanceDest   isFraud  \n",
      "step                  0.027665        0.025888  0.031578  \n",
      "amount                0.294137        0.459304  0.076688  \n",
      "oldbalanceOrg         0.066243        0.042029  0.010154  \n",
      "newbalanceOrig        0.067812        0.041837 -0.008148  \n",
      "oldbalanceDest        1.000000        0.976569 -0.005885  \n",
      "newbalanceDest        0.976569        1.000000  0.000535  \n",
      "isFraud              -0.005885        0.000535  1.000000  \n"
     ]
    }
   ],
   "source": [
    "#for multicollinearity, we make the correlation matrix: \n",
    "import pandas as pd\n",
    "import numpy as np\n",
    "\n",
    "columns_corr = ['step', 'type', 'amount', 'oldbalanceOrg', 'newbalanceOrig',\n",
    "                       'oldbalanceDest', 'newbalanceDest', 'isFraud']\n",
    "\n",
    "\n",
    "correlated_column = data[columns_corr]\n",
    "\n",
    "# Calculate the correlation matrix\n",
    "correlation_matrix = correlated_column.corr()\n",
    "\n",
    "# Print the correlation matrix\n",
    "print(correlation_matrix)\n"
   ]
  },
  {
   "cell_type": "markdown",
   "id": "0f5f7ad3",
   "metadata": {},
   "source": [
    "The correlation matrix shows the pairwise correlation coefficients between the selected variables. The correlation coefficient ranges from -1 to 1, where -1 indicates a perfect negative correlation, 0 indicates no correlation, and 1 indicates a perfect positive correlation.\n",
    "\n",
    "Positive correlation means that when one variable increases, the other tends to increase as well, while negative correlation means that when one variable increases, the other tends to decrease. A correlation coefficient close to 0 suggests little to no linear relationship between the variables.\n",
    "\n",
    "By examining the correlation matrix, you can identify if there are strong correlations between any of the variables in your dataset, which may indicate the presence of multicollinearity. If you observe high correlation values between some variables, further investigation may be necessary to handle multicollinearity properly when building predictive models."
   ]
  },
  {
   "cell_type": "code",
   "execution_count": null,
   "id": "4edf71f5",
   "metadata": {},
   "outputs": [],
   "source": []
  },
  {
   "cell_type": "markdown",
   "id": "265b9cb1",
   "metadata": {},
   "source": [
    "Multicollinearity is a statistical concept that refers to a high degree of correlation between two or more independent variables (predictor variables) in a regression model. In other words, it occurs when there are strong linear relationships among the independent variables, making it difficult to distinguish the individual effects of each variable on the dependent variable (response variable).\n",
    "\n",
    "Multicollinearity can cause several issues in regression analysis:\n",
    "\n",
    "Unreliable Coefficients: When independent variables are highly correlated, it becomes challenging for the model to determine the independent contribution of each variable. The coefficients of the correlated variables may fluctuate erratically with changes in the data.\n",
    "\n",
    "Reduced Model Interpretability: It becomes difficult to interpret the coefficients of the correlated variables because their effects are confounded, and it's unclear how much each variable influences the dependent variable independently.\n",
    "\n",
    "Increased Standard Errors: The standard errors of the regression coefficients can become very large, which affects the precision of the coefficient estimates and reduces the statistical significance.\n",
    "\n",
    "Inflated Variance Inflation Factor (VIF): The VIF is a measure used to detect multicollinearity. High VIF values indicate that there is a high correlation between independent variables, which could be problematic for the regression model.\n",
    "\n",
    "Overfitting: Multicollinearity may lead to overfitting of the model, where the model fits the training data well but performs poorly on new, unseen data.\n",
    "\n",
    "Detecting multicollinearity is important, and there are several methods to identify it:\n",
    "\n",
    "Correlation Matrix: Calculate the correlation matrix among the independent variables. High correlation coefficients (close to +1 or -1) indicate potential multicollinearity.\n",
    "\n",
    "Variance Inflation Factor (VIF): Calculate the VIF for each independent variable. VIF values greater than 5 or 10 (some sources suggest different thresholds) are often considered indicative of multicollinearity.\n",
    "\n",
    "Eigenvalues: Check the eigenvalues of the correlation matrix. If there is at least one eigenvalue that is close to zero, it suggests multicollinearity.\n",
    "\n",
    "To address multicollinearity, one can take the following steps:\n",
    "\n",
    "Remove or Combine Variables: If two or more variables are highly correlated, consider removing one of them from the model or combining them into a composite variable.\n",
    "\n",
    "Feature Selection: Use feature selection techniques to choose the most relevant and uncorrelated variables for the model.\n",
    "\n",
    "Principal Component Analysis (PCA): Apply PCA to reduce the dimensionality of the data while retaining most of the information.\n",
    "\n",
    "Handling multicollinearity appropriately helps to build more reliable and interpretable regression models that provide meaningful insights and predictions."
   ]
  },
  {
   "cell_type": "code",
   "execution_count": 16,
   "id": "9e927635",
   "metadata": {},
   "outputs": [
    {
     "name": "stderr",
     "output_type": "stream",
     "text": [
      "C:\\Users\\Dell\\AppData\\Local\\Temp\\ipykernel_23820\\1825487473.py:1: FutureWarning: The default value of numeric_only in DataFrame.corr is deprecated. In a future version, it will default to False. Select only valid columns or specify the value of numeric_only to silence this warning.\n",
      "  sns.heatmap(data.corr(),cmap='coolwarm');\n"
     ]
    },
    {
     "data": {
      "image/png": "[encoded data removed]",
      "text/plain": [
       "<Figure size 640x480 with 2 Axes>"
      ]
     },
     "metadata": {},
     "output_type": "display_data"
    }
   ],
   "source": [
    "sns.heatmap(data.corr(),cmap='coolwarm');"
   ]
  },
  {
   "cell_type": "markdown",
   "id": "6fa1fdab",
   "metadata": {},
   "source": [
    "The heatmap above is depicting : that the columns OldbalanceOrg and NewbalanceOrg are highly correlated. Also, OldbalanceDest and NewbalanceDest are highly correlated. Amount is correlated with isFraud(Target Variable).\n",
    "Features are not correlated that much, so we observe  the relationship between the type of transaction and amount."
   ]
  },
  {
   "cell_type": "code",
   "execution_count": 17,
   "id": "c1e2c819",
   "metadata": {},
   "outputs": [],
   "source": [
    "fraud = data.loc[data.isFraud == 1]\n",
    "nonfraud = data.loc[data.isFraud == 0]"
   ]
  },
  {
   "cell_type": "code",
   "execution_count": 18,
   "id": "b4f4309d",
   "metadata": {},
   "outputs": [],
   "source": [
    "fraudcount = fraud.isFraud.count()\n",
    "nonfraudcount = nonfraud.isFraud.count()"
   ]
  },
  {
   "cell_type": "code",
   "execution_count": 19,
   "id": "bd30d0a2",
   "metadata": {},
   "outputs": [
    {
     "name": "stderr",
     "output_type": "stream",
     "text": [
      "C:\\Users\\Dell\\AppData\\Local\\Temp\\ipykernel_23820\\1254854079.py:1: FutureWarning: The default value of numeric_only in DataFrame.corr is deprecated. In a future version, it will default to False. Select only valid columns or specify the value of numeric_only to silence this warning.\n",
      "  sns.heatmap(fraud.corr(),cmap='coolwarm',);\n"
     ]
    },
    {
     "data": {
      "image/png": "[encoded data removed]",
      "text/plain": [
       "<Figure size 640x480 with 2 Axes>"
      ]
     },
     "metadata": {},
     "output_type": "display_data"
    }
   ],
   "source": [
    "sns.heatmap(fraud.corr(),cmap='coolwarm',);"
   ]
  },
  {
   "cell_type": "markdown",
   "id": "ebf476eb",
   "metadata": {},
   "source": [
    "Q2 and 3 : There are 2 features which stand out: isFraud and isFlaggedFraud column. From the hypothesis, isFraud is the indicator which indicates the actual fraud transactions whereas isFlaggedFraud is what the system prevents the transaction due to some thresholds being triggered. We first change the categorical variables to numerical variables for calculation purpose. We then separate the table into X and Y variables to train the machine. The random forest classifier creates multiple decision trees during the training phase and then combines their prediction to make the final prediction. 15 decision trees created here. We then Fit (train) the Random Forest classifier on the training data (train_X and train_y) and then predict the labels for the testing data (test_X)."
   ]
  },
  {
   "cell_type": "code",
   "execution_count": 20,
   "id": "32357fa0",
   "metadata": {},
   "outputs": [],
   "source": [
    "import pickle"
   ]
  },
  {
   "cell_type": "code",
   "execution_count": 21,
   "id": "c77aba07",
   "metadata": {},
   "outputs": [],
   "source": [
    "data_replace = data.replace(to_replace={'PAYMENT':1,'TRANSFER':2,'CASH_OUT':3,\n",
    "                                            'CASH_IN':4,'DEBIT':5,'No':0,'Yes':1}) #this step helps us to remove the variables which cannot be used during calculation since it is a categorical variable therefor we convert it into a numerical variable"
   ]
  },
  {
   "cell_type": "code",
   "execution_count": 23,
   "id": "7d1776db",
   "metadata": {},
   "outputs": [],
   "source": [
    "data_replace.drop(['nameOrig','nameDest','isFlaggedFraud'],axis=1,inplace=True)"
   ]
  },
  {
   "cell_type": "code",
   "execution_count": 29,
   "id": "cacc99d1",
   "metadata": {},
   "outputs": [],
   "source": [
    "datatotrain=data_replace"
   ]
  },
  {
   "cell_type": "code",
   "execution_count": 30,
   "id": "27cf5ce5",
   "metadata": {},
   "outputs": [
    {
     "data": {
      "text/html": [
       "<div>\n",
       "<style scoped>\n",
       "    .dataframe tbody tr th:only-of-type {\n",
       "        vertical-align: middle;\n",
       "    }\n",
       "\n",
       "    .dataframe tbody tr th {\n",
       "        vertical-align: top;\n",
       "    }\n",
       "\n",
       "    .dataframe thead th {\n",
       "        text-align: right;\n",
       "    }\n",
       "</style>\n",
       "<table border=\"1\" class=\"dataframe\">\n",
       "  <thead>\n",
       "    <tr style=\"text-align: right;\">\n",
       "      <th></th>\n",
       "      <th>step</th>\n",
       "      <th>type</th>\n",
       "      <th>amount</th>\n",
       "      <th>oldbalanceOrg</th>\n",
       "      <th>newbalanceOrig</th>\n",
       "      <th>oldbalanceDest</th>\n",
       "      <th>newbalanceDest</th>\n",
       "      <th>isFraud</th>\n",
       "    </tr>\n",
       "  </thead>\n",
       "  <tbody>\n",
       "    <tr>\n",
       "      <th>0</th>\n",
       "      <td>1</td>\n",
       "      <td>1</td>\n",
       "      <td>9839.64</td>\n",
       "      <td>170136.0</td>\n",
       "      <td>160296.36</td>\n",
       "      <td>0.0</td>\n",
       "      <td>0.0</td>\n",
       "      <td>0</td>\n",
       "    </tr>\n",
       "    <tr>\n",
       "      <th>1</th>\n",
       "      <td>1</td>\n",
       "      <td>1</td>\n",
       "      <td>1864.28</td>\n",
       "      <td>21249.0</td>\n",
       "      <td>19384.72</td>\n",
       "      <td>0.0</td>\n",
       "      <td>0.0</td>\n",
       "      <td>0</td>\n",
       "    </tr>\n",
       "    <tr>\n",
       "      <th>2</th>\n",
       "      <td>1</td>\n",
       "      <td>2</td>\n",
       "      <td>181.00</td>\n",
       "      <td>181.0</td>\n",
       "      <td>0.00</td>\n",
       "      <td>0.0</td>\n",
       "      <td>0.0</td>\n",
       "      <td>1</td>\n",
       "    </tr>\n",
       "    <tr>\n",
       "      <th>3</th>\n",
       "      <td>1</td>\n",
       "      <td>3</td>\n",
       "      <td>181.00</td>\n",
       "      <td>181.0</td>\n",
       "      <td>0.00</td>\n",
       "      <td>21182.0</td>\n",
       "      <td>0.0</td>\n",
       "      <td>1</td>\n",
       "    </tr>\n",
       "    <tr>\n",
       "      <th>4</th>\n",
       "      <td>1</td>\n",
       "      <td>1</td>\n",
       "      <td>11668.14</td>\n",
       "      <td>41554.0</td>\n",
       "      <td>29885.86</td>\n",
       "      <td>0.0</td>\n",
       "      <td>0.0</td>\n",
       "      <td>0</td>\n",
       "    </tr>\n",
       "  </tbody>\n",
       "</table>\n",
       "</div>"
      ],
      "text/plain": [
       "   step  type    amount  oldbalanceOrg  newbalanceOrig  oldbalanceDest  \\\n",
       "0     1     1   9839.64       170136.0       160296.36             0.0   \n",
       "1     1     1   1864.28        21249.0        19384.72             0.0   \n",
       "2     1     2    181.00          181.0            0.00             0.0   \n",
       "3     1     3    181.00          181.0            0.00         21182.0   \n",
       "4     1     1  11668.14        41554.0        29885.86             0.0   \n",
       "\n",
       "   newbalanceDest  isFraud  \n",
       "0             0.0        0  \n",
       "1             0.0        0  \n",
       "2             0.0        1  \n",
       "3             0.0        1  \n",
       "4             0.0        0  "
      ]
     },
     "execution_count": 30,
     "metadata": {},
     "output_type": "execute_result"
    }
   ],
   "source": [
    "datatotrain.head()"
   ]
  },
  {
   "cell_type": "code",
   "execution_count": 31,
   "id": "3c29bbc2",
   "metadata": {},
   "outputs": [],
   "source": [
    "X = datatotrain.drop(['isFraud'],axis=1)\n",
    "y = datatotrain[['isFraud']]"
   ]
  },
  {
   "cell_type": "code",
   "execution_count": 32,
   "id": "a100b0a7",
   "metadata": {},
   "outputs": [],
   "source": [
    "from sklearn.model_selection import train_test_split\n",
    "train_X, test_X, train_y, test_y = train_test_split(X, y, test_size = 0.2, random_state = 121)"
   ]
  },
  {
   "cell_type": "code",
   "execution_count": 33,
   "id": "6fe5e931",
   "metadata": {},
   "outputs": [],
   "source": [
    "from sklearn.ensemble import RandomForestClassifier\n",
    "clf = RandomForestClassifier(n_estimators=15)"
   ]
  },
  {
   "cell_type": "code",
   "execution_count": 34,
   "id": "a52b2bb1",
   "metadata": {},
   "outputs": [],
   "source": [
    "if True:\n",
    "    probabilities = clf.fit(train_X, train_y.values.ravel()).predict(test_X)"
   ]
  },
  {
   "cell_type": "code",
   "execution_count": 35,
   "id": "7f6d6ce6",
   "metadata": {},
   "outputs": [
    {
     "name": "stdout",
     "output_type": "stream",
     "text": [
      "0.7649806095734424\n"
     ]
    }
   ],
   "source": [
    "from sklearn.metrics import average_precision_score\n",
    "if True:\n",
    "    print(average_precision_score(test_y,probabilities))"
   ]
  },
  {
   "cell_type": "markdown",
   "id": "1e6eaa79",
   "metadata": {},
   "source": [
    "Model Evaluation: average_precision_score: Import the average_precision_score metric from Scikit-learn, which is used to evaluate the model's performance.\n",
    "average_precision_score(test_y, probabilities): Compute the average precision score by comparing the true labels in test_y with the predicted probabilities in probabilities.The average precision score is a metric commonly used in imbalanced classification tasks, such as fraud detection, where one class (fraudulent transactions) is much rarer than the other (non-fraudulent transactions). It takes into account the precision-recall trade-off and provides a single-value summary of the model's ability to rank fraudulent instances higher than non-fraudulent instances.\n",
    "\n",
    "A higher average precision score indicates better model performance, with a maximum value of 1.0 indicating perfect classification. The output of average_precision_score will be a number between 0 and 1, representing the model's performance on the test data."
   ]
  },
  {
   "cell_type": "code",
   "execution_count": 37,
   "id": "4e09b6c8",
   "metadata": {},
   "outputs": [
    {
     "name": "stdout",
     "output_type": "stream",
     "text": [
      "Accuracy: 0.9996872357613688\n"
     ]
    }
   ],
   "source": [
    "from sklearn.metrics import accuracy_score\n",
    "# Calculate the accuracy of the model\n",
    "accuracy = accuracy_score(test_y, probabilities)\n",
    "print(\"Accuracy:\", accuracy)"
   ]
  },
  {
   "cell_type": "markdown",
   "id": "412b2555",
   "metadata": {},
   "source": []
  },
  {
   "cell_type": "code",
   "execution_count": 42,
   "id": "ef2d981a",
   "metadata": {},
   "outputs": [
    {
     "name": "stdout",
     "output_type": "stream",
     "text": [
      "Top features predicting fraud:\n",
      "          Feature  Importance\n",
      "3   oldbalanceOrg    0.333914\n",
      "6  newbalanceDest    0.191076\n",
      "1            type    0.144760\n",
      "2          amount    0.135289\n",
      "0            step    0.101177\n"
     ]
    }
   ],
   "source": [
    "# Get feature importance from the model\n",
    "feature_importances = clf.feature_importances_\n",
    "feature_importance_df = pd.DataFrame({'Feature': X.columns, 'Importance': feature_importances})\n",
    "# Sorting the DataFrame by importance in descending order\n",
    "feature_importance_df = feature_importance_df.sort_values(by='Importance', ascending=False)\n",
    "# Displaying the top features that predict fraudulent customers\n",
    "print(\"Top features predicting fraud:\")\n",
    "print(feature_importance_df.head())"
   ]
  },
  {
   "cell_type": "markdown",
   "id": "16156494",
   "metadata": {},
   "source": [
    "Q5 and 6 : Key factors : The feature importances attribute of the RandomForestClassifier helps us to get an array of importance scores for each feature. The higher the score, the greater is the importance of the feature in predicting fraud. By creating a DataFrame and sorting the features based on importance,we can easily identify the key factors that predict fraudulent customers.\n",
    "Since from the above visualization analysis we have already observed that speed(step), type of transaction, amount, destination and initial balance before fraud are essential in flagging the fraudulent transaction. These make sense as we have seen in the visualization."
   ]
  },
  {
   "cell_type": "code",
   "execution_count": 38,
   "id": "9d46c049",
   "metadata": {},
   "outputs": [],
   "source": [
    "from sklearn.metrics import confusion_matrix"
   ]
  },
  {
   "cell_type": "code",
   "execution_count": 39,
   "id": "602c561a",
   "metadata": {},
   "outputs": [
    {
     "name": "stdout",
     "output_type": "stream",
     "text": [
      "\n",
      "Confusion Matrix:\n",
      "                  Predicted Non-Fraud  Predicted Fraud\n",
      "Actual Non-Fraud              1270803               33\n",
      "Actual Fraud                      365             1323\n"
     ]
    }
   ],
   "source": [
    "# Form the confusion matrix\n",
    "cm = confusion_matrix(test_y, probabilities)\n",
    "\n",
    "# Display the confusion matrix\n",
    "confusion_df = pd.DataFrame(cm, index=['Actual Non-Fraud', 'Actual Fraud'], columns=['Predicted Non-Fraud', 'Predicted Fraud'])\n",
    "print(\"\\nConfusion Matrix:\")\n",
    "print(confusion_df)"
   ]
  },
  {
   "cell_type": "markdown",
   "id": "f3c3a759",
   "metadata": {},
   "source": [
    "Q7 and 8: First off, the systems flagging the transactions should be faster.(Incidence response plans)\n",
    "Frequent security assessment and audit required (frequent audits for compliance)\n",
    "Implement strong access control (as most fraud cases here in cash and transfer)\n",
    "Stronger security protocols \n",
    "Employee training and user awareness"
   ]
  },
  {
   "cell_type": "markdown",
   "id": "da9231d3",
   "metadata": {},
   "source": [
    "To check whtether these steps are working there is need to :\n",
    "Keep updating security infrastructure\n",
    "ensure compliance of protocols\n",
    "Encourage employee feedback and reporting \n",
    "Continuous monitoring and breach-incident thorough analysis etc."
   ]
  },
  {
   "cell_type": "code",
   "execution_count": null,
   "id": "925bf301",
   "metadata": {},
   "outputs": [],
   "source": []
  }
 ],
 "metadata": {
  "kernelspec": {
   "display_name": "Python 3 (ipykernel)",
   "language": "python",
   "name": "python3"
  },
  "language_info": {
   "codemirror_mode": {
    "name": "ipython",
    "version": 3
   },
   "file_extension": ".py",
   "mimetype": "text/x-python",
   "name": "python",
   "nbconvert_exporter": "python",
   "pygments_lexer": "ipython3",
   "version": "3.10.9"
  }
 },
 "nbformat": 4,
 "nbformat_minor": 5
}
